{
 "cells": [
  {
   "cell_type": "markdown",
   "id": "cbde4b11-605d-4f45-8406-1fbdff79cc9a",
   "metadata": {},
   "source": [
    "aby stworzyć funkcję w pythonie, używamy słowa def\n",
    "w tym przypadku funkcja dodaje dwie liczby i zwraca wynik"
   ]
  },
  {
   "cell_type": "code",
   "execution_count": 15,
   "id": "7a49f187-4bb8-4f8e-b1d4-d0108968a5fb",
   "metadata": {},
   "outputs": [],
   "source": [
    "def addingTwoNumbers(a,b):\n",
    "    c=a+b\n",
    "    return c"
   ]
  },
  {
   "cell_type": "markdown",
   "id": "55bac006-3ac1-4baa-b7ba-d3d354242d0f",
   "metadata": {},
   "source": [
    "aby wywołać funkcję, wpisujemy jej nazwę wraz z nawiasami okrągłymi:"
   ]
  },
  {
   "cell_type": "code",
   "execution_count": 17,
   "id": "c19cc137-ee4c-42ae-a440-48f5f9a5f2df",
   "metadata": {},
   "outputs": [
    {
     "data": {
      "text/plain": [
       "4"
      ]
     },
     "execution_count": 17,
     "metadata": {},
     "output_type": "execute_result"
    }
   ],
   "source": [
    "addingTwoNumbers(2,2)\n"
   ]
  }
 ],
 "metadata": {
  "kernelspec": {
   "display_name": "Python 3 (ipykernel)",
   "language": "python",
   "name": "python3"
  },
  "language_info": {
   "codemirror_mode": {
    "name": "ipython",
    "version": 3
   },
   "file_extension": ".py",
   "mimetype": "text/x-python",
   "name": "python",
   "nbconvert_exporter": "python",
   "pygments_lexer": "ipython3",
   "version": "3.11.5"
  }
 },
 "nbformat": 4,
 "nbformat_minor": 5
}
